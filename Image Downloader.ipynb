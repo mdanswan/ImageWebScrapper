{
 "cells": [
  {
   "cell_type": "code",
   "execution_count": null,
   "metadata": {},
   "outputs": [],
   "source": [
    "\"\"\"\n",
    "Developed by Miles Danswan\n",
    "Date: 13/04/21\n",
    "Project: ReOpen A2I2\n",
    "\"\"\"\n",
    "import requests as rq\n",
    "import re\n",
    "import urllib as u\n",
    "import random as rand\n",
    "import threading as t\n",
    "from html.parser import HTMLParser"
   ]
  },
  {
   "cell_type": "code",
   "execution_count": null,
   "metadata": {},
   "outputs": [],
   "source": [
    "\"\"\"\n",
    "Simple class inheriting from the Python threading module\n",
    "\n",
    "Functions as a background task for downloading web scrapping results\n",
    "\"\"\"\n",
    "class DownloadingThread(t.Thread):\n",
    "    def __init__(this, batch):\n",
    "        t.Thread.__init__(this)\n",
    "        this.results = dict()\n",
    "        this.batch = batch\n",
    "    def run(this):\n",
    "        for url in this.batch:\n",
    "            try:\n",
    "                fn = url.rsplit(\"/\", 1)[1]\n",
    "                path = \"./Temp/\" + fn\n",
    "                print(\"Downloading %s into %s\" % (fn[0:10] + \"...\", path))\n",
    "                r = rq.get(url)\n",
    "                with open(path, mode=\"wb\") as file:\n",
    "                    file.write(r.content)\n",
    "                this.results[url] = True\n",
    "            except Exception as e:\n",
    "                print(\"Error downloading file from %s\\n\\t%s\" % (url, repr(e)[0:100] + \"...\"))\n",
    "                this.results[url] = False"
   ]
  },
  {
   "cell_type": "code",
   "execution_count": null,
   "metadata": {},
   "outputs": [],
   "source": [
    "\"\"\"\n",
    "Core HTML analysis and breakdown from the designated image source\n",
    "\n",
    "Inheriting from HTMLParser allows for simple traversal of the DOM to find embedded image URLs\n",
    "\"\"\"\n",
    "class CommercialFloorPlanHTMLParser(HTMLParser):\n",
    "    def __init__(this):\n",
    "        super().__init__()\n",
    "        this.image_urls = set()\n",
    "        this.total_urls = 0\n",
    "    def handle_starttag(this, tag, attrs):\n",
    "        if tag == \"a\":\n",
    "            if attrs[0][0] == \"class\" and attrs[0][1] == \"serp-item__link\":\n",
    "                img_url_idx = attrs[1][1].find(\"img_url\") + len(\"img_url\") + 1\n",
    "                img_url_close_idx = attrs[1][1].find(\"&\", img_url_idx)\n",
    "                this.image_urls.add(u.parse.unquote(attrs[1][1][img_url_idx:img_url_close_idx]))\n",
    "                this.total_urls += 1\n",
    "\n",
    "\"\"\"\n",
    "Core class for the image web scrapping process\n",
    "\n",
    "Simply acts as a manager for the above tasks\n",
    "\"\"\"\n",
    "class FloorplanDownloader():\n",
    "    THREADS = 5\n",
    "    def __init__(this, floorplan_urls):\n",
    "        this.fp_urls = floorplan_urls\n",
    "    def download(this):\n",
    "        if this.fp_urls == None or len(this.fp_urls) == 0:\n",
    "            print(\"No URL's Passed\")\n",
    "            return\n",
    "        rand.shuffle(this.fp_urls)\n",
    "        size = int(len(this.fp_urls))\n",
    "        part = int(size / this.THREADS)\n",
    "        threads = []\n",
    "        for idx in range(this.THREADS):\n",
    "            thread = DownloadingThread(this.fp_urls[idx*part:idx*part + part])\n",
    "            thread.start()\n",
    "            threads.append(thread)\n",
    "        for thread in threads:\n",
    "            thread.join()\n",
    "        for thread in threads:\n",
    "            print(\"Total Potential Images: %d\" % (size))"
   ]
  },
  {
   "cell_type": "code",
   "execution_count": null,
   "metadata": {},
   "outputs": [],
   "source": [
    "PAGES = 30 # how many pages are to be search in the image engine\n",
    "parser = CommercialFloorPlanHTMLParser()\n",
    "for i in range(PAGES):\n",
    "    url = r'https://yandex.com/images/search?text=school%20floor%20plans&rpt=image&p=' + str(i) # example url\n",
    "    print(\"Acquiring: %s\\r\" % (url))\n",
    "    r = rq.get(url, allow_redirects=False)\n",
    "    parser.feed(str(r.content))\n",
    "downloader = FloorplanDownloader(list(parser.image_urls))\n",
    "downloader.download()\n",
    "parser.close()"
   ]
  }
 ],
 "metadata": {
  "kernelspec": {
   "display_name": "Python 3",
   "language": "python",
   "name": "python3"
  },
  "language_info": {
   "codemirror_mode": {
    "name": "ipython",
    "version": 3
   },
   "file_extension": ".py",
   "mimetype": "text/x-python",
   "name": "python",
   "nbconvert_exporter": "python",
   "pygments_lexer": "ipython3",
   "version": "3.6.13"
  },
  "toc": {
   "base_numbering": 1,
   "nav_menu": {},
   "number_sections": true,
   "sideBar": true,
   "skip_h1_title": false,
   "title_cell": "Table of Contents",
   "title_sidebar": "Contents",
   "toc_cell": false,
   "toc_position": {},
   "toc_section_display": true,
   "toc_window_display": false
  }
 },
 "nbformat": 4,
 "nbformat_minor": 4
}
